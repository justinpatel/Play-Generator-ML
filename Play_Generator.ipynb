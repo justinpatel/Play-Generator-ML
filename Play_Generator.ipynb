{
  "nbformat": 4,
  "nbformat_minor": 0,
  "metadata": {
    "colab": {
      "name": "Play Generator.ipynb",
      "provenance": [],
      "authorship_tag": "ABX9TyM1YNu+FmBdp3TvpCO2/EVq",
      "include_colab_link": true
    },
    "kernelspec": {
      "name": "python3",
      "display_name": "Python 3"
    },
    "accelerator": "GPU"
  },
  "cells": [
    {
      "cell_type": "markdown",
      "metadata": {
        "id": "view-in-github",
        "colab_type": "text"
      },
      "source": [
        "<a href=\"https://colab.research.google.com/github/justinpatel/Play-Generator-ML/blob/master/Play_Generator.ipynb\" target=\"_parent\"><img src=\"https://colab.research.google.com/assets/colab-badge.svg\" alt=\"Open In Colab\"/></a>"
      ]
    },
    {
      "cell_type": "code",
      "metadata": {
        "id": "FJgGHO4w_Y_z",
        "colab_type": "code",
        "colab": {}
      },
      "source": [
        "import tensorflow as tf\n",
        "import numpy as np"
      ],
      "execution_count": 1,
      "outputs": []
    },
    {
      "cell_type": "markdown",
      "metadata": {
        "id": "SBf50-gN_2oZ",
        "colab_type": "text"
      },
      "source": [
        "Get the text file"
      ]
    },
    {
      "cell_type": "code",
      "metadata": {
        "id": "pWJKrfrA_eqC",
        "colab_type": "code",
        "colab": {}
      },
      "source": [
        "path_to_file = tf.keras.utils.get_file('shakespeare.txt', 'https://storage.googleapis.com/download.tensorflow.org/data/shakespeare.txt')"
      ],
      "execution_count": 2,
      "outputs": []
    },
    {
      "cell_type": "markdown",
      "metadata": {
        "id": "K5d0RPW4_8MY",
        "colab_type": "text"
      },
      "source": [
        "In order to get your own data from local machine"
      ]
    },
    {
      "cell_type": "code",
      "metadata": {
        "id": "ETvfYJva_1SI",
        "colab_type": "code",
        "colab": {}
      },
      "source": [
        "from google.colab import files\n",
        "path_to_file = list(files.upload().keys())[0]"
      ],
      "execution_count": null,
      "outputs": []
    },
    {
      "cell_type": "code",
      "metadata": {
        "id": "XTJx9WBPAKbq",
        "colab_type": "code",
        "colab": {
          "base_uri": "https://localhost:8080/",
          "height": 34
        },
        "outputId": "809434c6-9805-4ec9-9d1f-f2d8ff919cbb"
      },
      "source": [
        "text = open(path_to_file, 'rb').read().decode(encoding='utf-8')\n",
        "print(\"Length: {}\".format(len(text)))"
      ],
      "execution_count": 3,
      "outputs": [
        {
          "output_type": "stream",
          "text": [
            "Length: 1115394\n"
          ],
          "name": "stdout"
        }
      ]
    },
    {
      "cell_type": "code",
      "metadata": {
        "id": "S0h7GszEAgbf",
        "colab_type": "code",
        "colab": {
          "base_uri": "https://localhost:8080/",
          "height": 252
        },
        "outputId": "1a4c8506-713f-4710-bbbc-6570ed0f5a7c"
      },
      "source": [
        "print(text[:200])"
      ],
      "execution_count": 4,
      "outputs": [
        {
          "output_type": "stream",
          "text": [
            "First Citizen:\n",
            "Before we proceed any further, hear me speak.\n",
            "\n",
            "All:\n",
            "Speak, speak.\n",
            "\n",
            "First Citizen:\n",
            "You are all resolved rather to die than to famish?\n",
            "\n",
            "All:\n",
            "Resolved. resolved.\n",
            "\n",
            "First Citizen:\n",
            "First, you\n"
          ],
          "name": "stdout"
        }
      ]
    },
    {
      "cell_type": "markdown",
      "metadata": {
        "id": "_v_XIXt4CEOa",
        "colab_type": "text"
      },
      "source": [
        "preprocess of data"
      ]
    },
    {
      "cell_type": "code",
      "metadata": {
        "id": "QonbAm08Ai07",
        "colab_type": "code",
        "colab": {}
      },
      "source": [
        "vocab = sorted(set(text))\n",
        "\n",
        "char2idx = {u:i for i,u in enumerate(vocab)}\n",
        "idx2char = np.array(vocab)\n",
        "\n",
        "def text_to_int(text):\n",
        "  return np.array([char2idx[c] for c in text])"
      ],
      "execution_count": 4,
      "outputs": []
    },
    {
      "cell_type": "code",
      "metadata": {
        "id": "dInovUQ3BEkx",
        "colab_type": "code",
        "colab": {
          "base_uri": "https://localhost:8080/",
          "height": 34
        },
        "outputId": "b91ede8f-cf63-4f54-e875-024ea43b3d75"
      },
      "source": [
        "text_as_int = text_to_int(text)\n",
        "type(text_as_int)"
      ],
      "execution_count": 5,
      "outputs": [
        {
          "output_type": "execute_result",
          "data": {
            "text/plain": [
              "numpy.ndarray"
            ]
          },
          "metadata": {
            "tags": []
          },
          "execution_count": 5
        }
      ]
    },
    {
      "cell_type": "code",
      "metadata": {
        "id": "yiMBSX7aBWcm",
        "colab_type": "code",
        "colab": {}
      },
      "source": [
        "def int_to_text(intt):\n",
        "  try:\n",
        "    intt = intt.numpy()\n",
        "  except:\n",
        "    pass\n",
        "  return ''.join(idx2char[intt])"
      ],
      "execution_count": 6,
      "outputs": []
    },
    {
      "cell_type": "code",
      "metadata": {
        "id": "irkp20jnCtL1",
        "colab_type": "code",
        "colab": {
          "base_uri": "https://localhost:8080/",
          "height": 34
        },
        "outputId": "70fd32c6-25cc-4976-b426-d9496c3f746d"
      },
      "source": [
        "print(int_to_text(text_as_int[:10]))"
      ],
      "execution_count": 7,
      "outputs": [
        {
          "output_type": "stream",
          "text": [
            "First Citi\n"
          ],
          "name": "stdout"
        }
      ]
    },
    {
      "cell_type": "markdown",
      "metadata": {
        "id": "C_AAJAaZxBo4",
        "colab_type": "text"
      },
      "source": [
        "creating training example"
      ]
    },
    {
      "cell_type": "code",
      "metadata": {
        "id": "XIGTcuGWCxwS",
        "colab_type": "code",
        "colab": {}
      },
      "source": [
        "seq_length = 100\n",
        "examples_per_epoch = len(text)//(seq_length+1)\n",
        "\n",
        "char_dataset = tf.data.Dataset.from_tensor_slices(text_as_int)"
      ],
      "execution_count": 7,
      "outputs": []
    },
    {
      "cell_type": "code",
      "metadata": {
        "id": "-sBmU2sBxU7M",
        "colab_type": "code",
        "colab": {}
      },
      "source": [
        "sequences = char_dataset.batch(seq_length+1, drop_remainder=True)"
      ],
      "execution_count": 8,
      "outputs": []
    },
    {
      "cell_type": "code",
      "metadata": {
        "id": "qFb92jGtxiqw",
        "colab_type": "code",
        "colab": {}
      },
      "source": [
        "def split_input_target(chunk):\n",
        "  input_text = chunk[:-1]\n",
        "  output_text = chunk[1:]\n",
        "  return input_text, output_text"
      ],
      "execution_count": 9,
      "outputs": []
    },
    {
      "cell_type": "code",
      "metadata": {
        "id": "ETl_Js1cx7Rm",
        "colab_type": "code",
        "colab": {}
      },
      "source": [
        "dataset = sequences.map(split_input_target)"
      ],
      "execution_count": 10,
      "outputs": []
    },
    {
      "cell_type": "code",
      "metadata": {
        "id": "0c0tHp4xyC21",
        "colab_type": "code",
        "colab": {
          "base_uri": "https://localhost:8080/",
          "height": 218
        },
        "outputId": "754a1811-8ceb-466d-8c33-e82a2c6ac511"
      },
      "source": [
        "for x, y in dataset.take(1):\n",
        "  print(x)\n",
        "  print(y)"
      ],
      "execution_count": 11,
      "outputs": [
        {
          "output_type": "stream",
          "text": [
            "tf.Tensor(\n",
            "[18 47 56 57 58  1 15 47 58 47 64 43 52 10  0 14 43 44 53 56 43  1 61 43\n",
            "  1 54 56 53 41 43 43 42  1 39 52 63  1 44 59 56 58 46 43 56  6  1 46 43\n",
            " 39 56  1 51 43  1 57 54 43 39 49  8  0  0 13 50 50 10  0 31 54 43 39 49\n",
            "  6  1 57 54 43 39 49  8  0  0 18 47 56 57 58  1 15 47 58 47 64 43 52 10\n",
            "  0 37 53 59], shape=(100,), dtype=int64)\n",
            "tf.Tensor(\n",
            "[47 56 57 58  1 15 47 58 47 64 43 52 10  0 14 43 44 53 56 43  1 61 43  1\n",
            " 54 56 53 41 43 43 42  1 39 52 63  1 44 59 56 58 46 43 56  6  1 46 43 39\n",
            " 56  1 51 43  1 57 54 43 39 49  8  0  0 13 50 50 10  0 31 54 43 39 49  6\n",
            "  1 57 54 43 39 49  8  0  0 18 47 56 57 58  1 15 47 58 47 64 43 52 10  0\n",
            " 37 53 59  1], shape=(100,), dtype=int64)\n"
          ],
          "name": "stdout"
        }
      ]
    },
    {
      "cell_type": "code",
      "metadata": {
        "id": "O0ip0LtRzPnO",
        "colab_type": "code",
        "colab": {}
      },
      "source": [
        "BATCH_SIZE = 64\n",
        "VOCAB_SIZE = len(vocab)\n",
        "EMBEDDING_DIM = 256\n",
        "RNN_UNITS = 1024"
      ],
      "execution_count": 12,
      "outputs": []
    },
    {
      "cell_type": "code",
      "metadata": {
        "id": "T_XukN3KyFHU",
        "colab_type": "code",
        "colab": {}
      },
      "source": [
        "data = dataset.shuffle(10000).batch(64, drop_remainder=True)"
      ],
      "execution_count": 13,
      "outputs": []
    },
    {
      "cell_type": "code",
      "metadata": {
        "id": "iT6ywWPQy5KX",
        "colab_type": "code",
        "colab": {
          "base_uri": "https://localhost:8080/",
          "height": 34
        },
        "outputId": "7b77f223-2f95-4df0-a7cd-728287753f23"
      },
      "source": [
        "data"
      ],
      "execution_count": 17,
      "outputs": [
        {
          "output_type": "execute_result",
          "data": {
            "text/plain": [
              "<BatchDataset shapes: ((64, 100), (64, 100)), types: (tf.int64, tf.int64)>"
            ]
          },
          "metadata": {
            "tags": []
          },
          "execution_count": 17
        }
      ]
    },
    {
      "cell_type": "code",
      "metadata": {
        "id": "dCRSrguRy6fl",
        "colab_type": "code",
        "colab": {}
      },
      "source": [
        "def build_model(vocab_size, embedding_dim, rnn_units, batch_size):\n",
        "  model = tf.keras.Sequential([\n",
        "    tf.keras.layers.Embedding(vocab_size, embedding_dim, batch_input_shape=[batch_size, None]),\n",
        "    tf.keras.layers.LSTM(rnn_units, recurrent_initializer=\"glorot_uniform\", return_sequences=True, stateful=True),\n",
        "    tf.keras.layers.Dense(vocab_size)\n",
        "  ])\n",
        "\n",
        "  return model"
      ],
      "execution_count": 17,
      "outputs": []
    },
    {
      "cell_type": "code",
      "metadata": {
        "id": "Lqon3sFC1V-f",
        "colab_type": "code",
        "colab": {
          "base_uri": "https://localhost:8080/",
          "height": 252
        },
        "outputId": "131e0863-bd43-46da-ae41-584540483d9e"
      },
      "source": [
        "model = build_model(VOCAB_SIZE, EMBEDDING_DIM,RNN_UNITS,BATCH_SIZE)\n",
        "model.summary()"
      ],
      "execution_count": 18,
      "outputs": [
        {
          "output_type": "stream",
          "text": [
            "Model: \"sequential\"\n",
            "_________________________________________________________________\n",
            "Layer (type)                 Output Shape              Param #   \n",
            "=================================================================\n",
            "embedding_1 (Embedding)      (64, None, 256)           16640     \n",
            "_________________________________________________________________\n",
            "lstm (LSTM)                  (64, None, 1024)          5246976   \n",
            "_________________________________________________________________\n",
            "dense (Dense)                (64, None, 65)            66625     \n",
            "=================================================================\n",
            "Total params: 5,330,241\n",
            "Trainable params: 5,330,241\n",
            "Non-trainable params: 0\n",
            "_________________________________________________________________\n"
          ],
          "name": "stdout"
        }
      ]
    },
    {
      "cell_type": "markdown",
      "metadata": {
        "id": "dPEuekFl-G4H",
        "colab_type": "text"
      },
      "source": [
        "creating a loss function"
      ]
    },
    {
      "cell_type": "code",
      "metadata": {
        "id": "qSz_ZvK-1cWb",
        "colab_type": "code",
        "colab": {
          "base_uri": "https://localhost:8080/",
          "height": 34
        },
        "outputId": "8d6e664c-5e41-4c5c-c7f9-39721b4e8092"
      },
      "source": [
        "for input, target in data.take(1):\n",
        "  input_prediction = model(input)\n",
        "  print(input_prediction.shape)"
      ],
      "execution_count": 20,
      "outputs": [
        {
          "output_type": "stream",
          "text": [
            "(64, 100, 65)\n"
          ],
          "name": "stdout"
        }
      ]
    },
    {
      "cell_type": "code",
      "metadata": {
        "id": "NTgrKgPl-5cZ",
        "colab_type": "code",
        "colab": {
          "base_uri": "https://localhost:8080/",
          "height": 319
        },
        "outputId": "eab0ecfa-c12c-48c8-9d46-987085d26605"
      },
      "source": [
        "input_prediction[0][0]"
      ],
      "execution_count": 29,
      "outputs": [
        {
          "output_type": "execute_result",
          "data": {
            "text/plain": [
              "<tf.Tensor: shape=(65,), dtype=float32, numpy=\n",
              "array([ 1.6117176e-02, -2.0026788e-03,  3.1119646e-03,  3.1135147e-03,\n",
              "       -1.2254943e-02,  9.2881499e-05,  1.0527703e-02,  7.6015894e-03,\n",
              "       -2.9979768e-05,  5.0755949e-03, -3.7412741e-03, -1.1748727e-02,\n",
              "        2.4860706e-03,  8.8417623e-03, -1.0405013e-02, -5.4631545e-03,\n",
              "       -3.1382244e-03, -3.0963931e-03, -1.0823305e-02, -2.9921648e-03,\n",
              "        2.1320288e-03,  7.3236087e-03,  7.0907059e-04,  3.7204255e-03,\n",
              "       -5.2960813e-03, -3.5010525e-03, -8.8643972e-03, -9.3327798e-03,\n",
              "       -4.7009005e-03,  4.8857979e-03,  5.0896346e-03, -7.1866754e-03,\n",
              "        6.6136464e-04, -7.5377487e-03, -1.0656528e-02,  1.3267454e-03,\n",
              "       -3.6001953e-03,  6.8235835e-03,  4.9132318e-04, -1.3757628e-02,\n",
              "       -6.8012616e-03, -1.5089649e-03,  7.3901657e-04, -3.4102297e-03,\n",
              "       -1.5760972e-03,  5.9014275e-03, -7.0760027e-04,  5.2388581e-03,\n",
              "        2.8587179e-04,  7.7912176e-04, -6.8626525e-03, -1.4999339e-03,\n",
              "        4.2021088e-03, -1.5254542e-03,  4.3044190e-04,  4.2532198e-04,\n",
              "        5.5748750e-03, -7.1208226e-04, -6.3333716e-03, -5.7577859e-03,\n",
              "       -9.4860373e-03, -6.8725836e-03, -3.7090245e-03,  9.8841209e-03,\n",
              "       -1.7593112e-03], dtype=float32)>"
            ]
          },
          "metadata": {
            "tags": []
          },
          "execution_count": 29
        }
      ]
    },
    {
      "cell_type": "code",
      "metadata": {
        "id": "ZItNTQRW_B0Q",
        "colab_type": "code",
        "colab": {}
      },
      "source": [
        "def loss(labels, logits):\n",
        "  return tf.keras.losses.sparse_categorical_crossentropy(labels, logits, from_logits=True)"
      ],
      "execution_count": 20,
      "outputs": []
    },
    {
      "cell_type": "code",
      "metadata": {
        "id": "V60wqzfpFanX",
        "colab_type": "code",
        "colab": {}
      },
      "source": [
        "model.compile(optimizer=\"adam\", loss=loss)"
      ],
      "execution_count": 21,
      "outputs": []
    },
    {
      "cell_type": "markdown",
      "metadata": {
        "id": "sbsM7i9fF3Md",
        "colab_type": "text"
      },
      "source": [
        "configure checkpoints"
      ]
    },
    {
      "cell_type": "code",
      "metadata": {
        "id": "ohpe5pQbFgK1",
        "colab_type": "code",
        "colab": {}
      },
      "source": [
        "import os\n",
        "# Directory where the checkpoints will be saved\n",
        "checkpoint_dir = './training_checkpoints'\n",
        "# Name of the checkpoint files\n",
        "checkpoint_prefix = os.path.join(checkpoint_dir, \"ckpt_{epoch}\")\n",
        "\n",
        "checkpoint_callback=tf.keras.callbacks.ModelCheckpoint(\n",
        "    filepath=checkpoint_prefix,\n",
        "    save_weights_only=True)"
      ],
      "execution_count": 22,
      "outputs": []
    },
    {
      "cell_type": "code",
      "metadata": {
        "id": "quFWDuXyF7e3",
        "colab_type": "code",
        "colab": {
          "base_uri": "https://localhost:8080/",
          "height": 1000
        },
        "outputId": "9cb82bba-0cff-456c-ceb7-6ab2260875a6"
      },
      "source": [
        "history = model.fit(data, epochs=50, callbacks=[checkpoint_callback])"
      ],
      "execution_count": 23,
      "outputs": [
        {
          "output_type": "stream",
          "text": [
            "Epoch 1/50\n",
            "172/172 [==============================] - 14s 82ms/step - loss: 2.7704\n",
            "Epoch 2/50\n",
            "172/172 [==============================] - 14s 82ms/step - loss: 2.0763\n",
            "Epoch 3/50\n",
            "172/172 [==============================] - 14s 79ms/step - loss: 1.8158\n",
            "Epoch 4/50\n",
            "172/172 [==============================] - 13s 77ms/step - loss: 1.6591\n",
            "Epoch 5/50\n",
            "172/172 [==============================] - 13s 76ms/step - loss: 1.5592\n",
            "Epoch 6/50\n",
            "172/172 [==============================] - 13s 77ms/step - loss: 1.4912\n",
            "Epoch 7/50\n",
            "172/172 [==============================] - 14s 79ms/step - loss: 1.4410\n",
            "Epoch 8/50\n",
            "172/172 [==============================] - 14s 81ms/step - loss: 1.4027\n",
            "Epoch 9/50\n",
            "172/172 [==============================] - 14s 79ms/step - loss: 1.3707\n",
            "Epoch 10/50\n",
            "172/172 [==============================] - 14s 79ms/step - loss: 1.3447\n",
            "Epoch 11/50\n",
            "172/172 [==============================] - 13s 78ms/step - loss: 1.3218\n",
            "Epoch 12/50\n",
            "172/172 [==============================] - 13s 78ms/step - loss: 1.2997\n",
            "Epoch 13/50\n",
            "172/172 [==============================] - 13s 78ms/step - loss: 1.2791\n",
            "Epoch 14/50\n",
            "172/172 [==============================] - 14s 79ms/step - loss: 1.2607\n",
            "Epoch 15/50\n",
            "172/172 [==============================] - 14s 79ms/step - loss: 1.2414\n",
            "Epoch 16/50\n",
            "172/172 [==============================] - 14s 79ms/step - loss: 1.2241\n",
            "Epoch 17/50\n",
            "172/172 [==============================] - 14s 79ms/step - loss: 1.2058\n",
            "Epoch 18/50\n",
            "172/172 [==============================] - 13s 78ms/step - loss: 1.1868\n",
            "Epoch 19/50\n",
            "172/172 [==============================] - 13s 78ms/step - loss: 1.1671\n",
            "Epoch 20/50\n",
            "172/172 [==============================] - 13s 78ms/step - loss: 1.1477\n",
            "Epoch 21/50\n",
            "172/172 [==============================] - 13s 78ms/step - loss: 1.1272\n",
            "Epoch 22/50\n",
            "172/172 [==============================] - 13s 78ms/step - loss: 1.1066\n",
            "Epoch 23/50\n",
            "172/172 [==============================] - 14s 79ms/step - loss: 1.0844\n",
            "Epoch 24/50\n",
            "172/172 [==============================] - 14s 79ms/step - loss: 1.0616\n",
            "Epoch 25/50\n",
            "172/172 [==============================] - 14s 79ms/step - loss: 1.0389\n",
            "Epoch 26/50\n",
            "172/172 [==============================] - 14s 79ms/step - loss: 1.0131\n",
            "Epoch 27/50\n",
            "172/172 [==============================] - 13s 78ms/step - loss: 0.9899\n",
            "Epoch 28/50\n",
            "172/172 [==============================] - 14s 79ms/step - loss: 0.9649\n",
            "Epoch 29/50\n",
            "172/172 [==============================] - 14s 79ms/step - loss: 0.9402\n",
            "Epoch 30/50\n",
            "172/172 [==============================] - 14s 79ms/step - loss: 0.9147\n",
            "Epoch 31/50\n",
            "172/172 [==============================] - 14s 79ms/step - loss: 0.8903\n",
            "Epoch 32/50\n",
            "172/172 [==============================] - 14s 79ms/step - loss: 0.8664\n",
            "Epoch 33/50\n",
            "172/172 [==============================] - 14s 79ms/step - loss: 0.8418\n",
            "Epoch 34/50\n",
            "172/172 [==============================] - 14s 79ms/step - loss: 0.8171\n",
            "Epoch 35/50\n",
            "172/172 [==============================] - 14s 79ms/step - loss: 0.7939\n",
            "Epoch 36/50\n",
            "172/172 [==============================] - 13s 78ms/step - loss: 0.7714\n",
            "Epoch 37/50\n",
            "172/172 [==============================] - 13s 78ms/step - loss: 0.7507\n",
            "Epoch 38/50\n",
            "172/172 [==============================] - 13s 78ms/step - loss: 0.7288\n",
            "Epoch 39/50\n",
            "172/172 [==============================] - 14s 79ms/step - loss: 0.7103\n",
            "Epoch 40/50\n",
            "172/172 [==============================] - 14s 79ms/step - loss: 0.6911\n",
            "Epoch 41/50\n",
            "172/172 [==============================] - 14s 79ms/step - loss: 0.6740\n",
            "Epoch 42/50\n",
            "172/172 [==============================] - 14s 79ms/step - loss: 0.6581\n",
            "Epoch 43/50\n",
            "172/172 [==============================] - 14s 79ms/step - loss: 0.6401\n",
            "Epoch 44/50\n",
            "172/172 [==============================] - 14s 79ms/step - loss: 0.6269\n",
            "Epoch 45/50\n",
            "172/172 [==============================] - 13s 78ms/step - loss: 0.6125\n",
            "Epoch 46/50\n",
            "172/172 [==============================] - 14s 79ms/step - loss: 0.5985\n",
            "Epoch 47/50\n",
            "172/172 [==============================] - 14s 79ms/step - loss: 0.5862\n",
            "Epoch 48/50\n",
            "172/172 [==============================] - 14s 79ms/step - loss: 0.5761\n",
            "Epoch 49/50\n",
            "172/172 [==============================] - 14s 79ms/step - loss: 0.5649\n",
            "Epoch 50/50\n",
            "172/172 [==============================] - 14s 79ms/step - loss: 0.5530\n"
          ],
          "name": "stdout"
        }
      ]
    },
    {
      "cell_type": "code",
      "metadata": {
        "id": "NcOJB5JbGNp3",
        "colab_type": "code",
        "colab": {}
      },
      "source": [
        "model = build_model(VOCAB_SIZE, EMBEDDING_DIM,RNN_UNITS,batch_size=1)\n",
        "model.load_weights(tf.train.latest_checkpoint(checkpoint_dir))\n",
        "model.build(tf.TensorShape([1,None]))"
      ],
      "execution_count": 24,
      "outputs": []
    },
    {
      "cell_type": "code",
      "metadata": {
        "id": "UD4LkvMdIn2s",
        "colab_type": "code",
        "colab": {
          "base_uri": "https://localhost:8080/",
          "height": 252
        },
        "outputId": "9edae693-62bd-411b-e77d-9d7fe0e96676"
      },
      "source": [
        "model.summary()"
      ],
      "execution_count": 25,
      "outputs": [
        {
          "output_type": "stream",
          "text": [
            "Model: \"sequential_1\"\n",
            "_________________________________________________________________\n",
            "Layer (type)                 Output Shape              Param #   \n",
            "=================================================================\n",
            "embedding_2 (Embedding)      (1, None, 256)            16640     \n",
            "_________________________________________________________________\n",
            "lstm_1 (LSTM)                (1, None, 1024)           5246976   \n",
            "_________________________________________________________________\n",
            "dense_1 (Dense)              (1, None, 65)             66625     \n",
            "=================================================================\n",
            "Total params: 5,330,241\n",
            "Trainable params: 5,330,241\n",
            "Non-trainable params: 0\n",
            "_________________________________________________________________\n"
          ],
          "name": "stdout"
        }
      ]
    },
    {
      "cell_type": "code",
      "metadata": {
        "id": "JYgfDqAgIrA1",
        "colab_type": "code",
        "colab": {}
      },
      "source": [
        "def generate_text(model, start_string):\n",
        "  # Evaluation step (generating text using the learned model)\n",
        "\n",
        "  # Number of characters to generate\n",
        "  num_generate = 1000\n",
        "\n",
        "  # Converting our start string to numbers (vectorizing)\n",
        "  input_eval = [char2idx[s] for s in start_string]\n",
        "  input_eval = tf.expand_dims(input_eval, 0)\n",
        "\n",
        "  # Empty string to store our results\n",
        "  text_generated = []\n",
        "\n",
        "  # Low temperatures results in more predictable text.\n",
        "  # Higher temperatures results in more surprising text.\n",
        "  # Experiment to find the best setting.\n",
        "  temperature = 1.0\n",
        "\n",
        "  # Here batch size == 1\n",
        "  model.reset_states()\n",
        "  for i in range(num_generate):\n",
        "    predictions = model(input_eval)\n",
        "    # remove the batch dimension\n",
        "    predictions = tf.squeeze(predictions, 0)\n",
        "\n",
        "    # using a categorical distribution to predict the character returned by the model\n",
        "    predictions = predictions / temperature\n",
        "    predicted_id = tf.random.categorical(predictions, num_samples=1)[-1,0].numpy()\n",
        "\n",
        "    # We pass the predicted character as the next input to the model\n",
        "    # along with the previous hidden state\n",
        "    input_eval = tf.expand_dims([predicted_id], 0)\n",
        "\n",
        "    text_generated.append(idx2char[predicted_id])\n",
        "\n",
        "  return (start_string + ''.join(text_generated))"
      ],
      "execution_count": 27,
      "outputs": []
    },
    {
      "cell_type": "code",
      "metadata": {
        "id": "fEc6XLUuIwW4",
        "colab_type": "code",
        "colab": {
          "base_uri": "https://localhost:8080/",
          "height": 622
        },
        "outputId": "8a3e522c-659b-4da6-fae7-842f04ddfdb9"
      },
      "source": [
        "inp = input(\"type something: \")\n",
        "print(generate_text(model, inp))"
      ],
      "execution_count": 28,
      "outputs": [
        {
          "output_type": "stream",
          "text": [
            "type something: romeo\n",
            "romeo's and no judgment patience.\n",
            "\n",
            "KING EDWARD IV:\n",
            "Alas, poor Clarence! Should a husband be made;\n",
            "It is a pursuirrop for our happy horse.\n",
            "Thank you, sir:\n",
            "That my tears are thence for he is:\n",
            "Behold, wise man, would give you all to Rivest hear discold.\n",
            "\n",
            "GLOUCESTER:\n",
            "He hath eaten,\n",
            "Should knave him, we are shed faults on Lancaster.\n",
            "\n",
            "Provost:\n",
            "Has that my music be my helmet and Elposter, Edward wepl'd and kill thy\n",
            "soldiers; and their power is dead like the forfounce man's\n",
            "execution, and then reconciled flight,\n",
            "And nobly dead still it be: so wise as it,\n",
            "Shambly entertain'st thy words to see the end of the back;\n",
            "And in defend me week and soldiers;\n",
            "Which else would pursue the miraccouses; thou kill'st men!\n",
            "\n",
            "PROSPERO:\n",
            "Hast there, my lord,\n",
            "Embarquestick; throw you that ease.\n",
            "\n",
            "LORD ROSS:\n",
            "It stands too farl!\n",
            "Thou wrong'st thee roar'd to question, there he were undone!\n",
            "If I should wear peace under your forward wish\n",
            "you speak. A crey-lower wish the sun.\n",
            "How long is't since?\n",
            "\n",
            "MENENIUS:\n",
            "You have fought to d\n"
          ],
          "name": "stdout"
        }
      ]
    },
    {
      "cell_type": "code",
      "metadata": {
        "id": "zncaAjNVKHqm",
        "colab_type": "code",
        "colab": {}
      },
      "source": [
        ""
      ],
      "execution_count": null,
      "outputs": []
    }
  ]
}